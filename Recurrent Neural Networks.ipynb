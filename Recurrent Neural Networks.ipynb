{
 "cells": [
  {
   "cell_type": "code",
   "execution_count": 1,
   "metadata": {
    "id": "OaJ1MZAM4yuo"
   },
   "outputs": [],
   "source": [
    "import numpy as np\n",
    "import warnings\n",
    "warnings.filterwarnings('ignore')\n",
    "from sklearn.metrics import accuracy_score\n",
    "from tensorflow.keras.datasets import reuters\n",
    "from tensorflow.keras.preprocessing.sequence import pad_sequences\n",
    "from tensorflow.keras.utils import to_categorical"
   ]
  },
  {
   "cell_type": "code",
   "execution_count": 2,
   "metadata": {
    "id": "YW_5kS9u4yu-"
   },
   "outputs": [],
   "source": [
    "num_words=30000 #1 line e 40000 words thakbe\n",
    "maxlen=50  #1ta line e word hbe 50ta\n",
    "test_split=0.2 "
   ]
  },
  {
   "cell_type": "code",
   "execution_count": 3,
   "metadata": {
    "id": "T7vrnhQl4yvD"
   },
   "outputs": [],
   "source": [
    "(xtrain,ytrain),(xtest,ytest)=reuters.load_data(num_words=num_words,test_split=test_split)   #reuters(dataset)"
   ]
  },
  {
   "cell_type": "code",
   "execution_count": 4,
   "metadata": {
    "colab": {
     "base_uri": "https://localhost:8080/"
    },
    "id": "dDqYNJTk4yvF",
    "outputId": "648cf11f-fcda-44ac-f1ff-0843314ee693"
   },
   "outputs": [
    {
     "name": "stdout",
     "output_type": "stream",
     "text": [
      "[1, 27595, 28842, 8, 43, 10, 447, 5, 25, 207, 270, 5, 3095, 111, 16, 369, 186, 90, 67, 7, 89, 5, 19, 102, 6, 19, 124, 15, 90, 67, 84, 22, 482, 26, 7, 48, 4, 49, 8, 864, 39, 209, 154, 6, 151, 6, 83, 11, 15, 22, 155, 11, 15, 7, 48, 9, 4579, 1005, 504, 6, 258, 6, 272, 11, 15, 22, 134, 44, 11, 15, 16, 8, 197, 1245, 90, 67, 52, 29, 209, 30, 32, 132, 6, 109, 15, 17, 12]\n",
      "[1, 4, 1378, 2025, 9, 697, 4622, 111, 8, 25, 109, 29, 3650, 11, 150, 244, 364, 33, 30, 30, 1398, 333, 6, 18292, 159, 9, 1084, 363, 13, 19231, 71, 9, 16273, 71, 117, 4, 225, 78, 206, 10, 9, 1214, 8, 4, 270, 5, 16273, 7, 748, 48, 9, 19231, 7, 207, 1451, 966, 1864, 793, 97, 133, 336, 7, 4, 493, 98, 273, 104, 284, 25, 39, 338, 22, 905, 220, 3465, 644, 59, 20, 6, 119, 61, 11, 15, 58, 579, 26, 10, 67, 7, 4, 738, 98, 43, 88, 333, 722, 12, 20, 6, 19, 746, 35, 15, 10, 9, 1214, 855, 129, 783, 21, 4, 2280, 244, 364, 51, 16, 299, 452, 16, 515, 4, 99, 29, 5, 4, 364, 281, 48, 10, 9, 1214, 23, 644, 47, 20, 324, 27, 56, 23406, 28185, 5, 192, 510, 17, 12]\n"
     ]
    }
   ],
   "source": [
    "print(xtrain[0]) # Without padding = 'post'\n",
    "print(xtest[0]) # With padding = 'post'"
   ]
  },
  {
   "cell_type": "code",
   "execution_count": 5,
   "metadata": {
    "id": "mgNAnKU44yvI"
   },
   "outputs": [],
   "source": [
    "xtrain=pad_sequences(xtrain,padding='post') #padding='post'---> last e 0 add hbe\n",
    "xtest=pad_sequences(xtest,padding='post')"
   ]
  },
  {
   "cell_type": "code",
   "execution_count": 6,
   "metadata": {
    "id": "cmM-6dIc4yvJ"
   },
   "outputs": [],
   "source": [
    "xtrain = np.array(xtrain).reshape((xtrain.shape[0], xtrain.shape[1], 1))\n",
    "xtest = np.array(xtest).reshape((xtest.shape[0], xtest.shape[1], 1))"
   ]
  },
  {
   "cell_type": "code",
   "execution_count": 7,
   "metadata": {
    "id": "v1ntaMgr4yvN"
   },
   "outputs": [],
   "source": [
    "y_data=np.concatenate((ytrain,ytest)) #ytrain & ytest jog korlm\n",
    "y_data=to_categorical(y_data) "
   ]
  },
  {
   "cell_type": "code",
   "execution_count": 8,
   "metadata": {
    "id": "eAA-mjQA4yvR"
   },
   "outputs": [],
   "source": [
    "ytrain=y_data[:8982]\n",
    "ytest=y_data[8982:]"
   ]
  },
  {
   "cell_type": "code",
   "execution_count": 9,
   "metadata": {
    "colab": {
     "base_uri": "https://localhost:8080/"
    },
    "id": "SUDT7XbC4yvT",
    "outputId": "c41ae974-2bb9-4994-a0f4-20e128f8c837"
   },
   "outputs": [
    {
     "name": "stdout",
     "output_type": "stream",
     "text": [
      "(8982, 2376, 1)\n",
      "\n",
      "(2246, 1032, 1)\n",
      "\n",
      "(8982, 46)\n",
      "\n",
      "(2246, 46)\n"
     ]
    }
   ],
   "source": [
    "print(xtrain.shape)\n",
    "print()\n",
    "print(xtest.shape)\n",
    "print()\n",
    "print(ytrain.shape)\n",
    "print()\n",
    "print(ytest.shape)"
   ]
  },
  {
   "cell_type": "markdown",
   "metadata": {
    "id": "j0tRMu-b4yvX"
   },
   "source": [
    "# Vanilla RNN"
   ]
  },
  {
   "cell_type": "code",
   "execution_count": 10,
   "metadata": {
    "id": "6wJqG6Jf4yvY"
   },
   "outputs": [],
   "source": [
    "from tensorflow.keras.models import Sequential\n",
    "from tensorflow.keras.layers import Dense, SimpleRNN, Activation\n",
    "from tensorflow.keras import optimizers\n",
    "from tensorflow.keras.wrappers.scikit_learn import KerasClassifier"
   ]
  },
  {
   "cell_type": "code",
   "execution_count": 11,
   "metadata": {
    "id": "pljlXRFi4yvZ"
   },
   "outputs": [],
   "source": [
    "def vanilla_RNN():\n",
    "    model=Sequential()\n",
    "    model.add(SimpleRNN(50,input_shape=(49,1),return_sequences = False))\n",
    "    model.add(Dense(46))\n",
    "    model.add(Activation('softmax'))\n",
    "    \n",
    "    adam_optimizer=optimizers.Adam(learning_rate=0.0001)\n",
    "    model.compile(loss='categorical_crossentropy',optimizer = adam_optimizer, metrics=['accuracy'])\n",
    "    \n",
    "    return model"
   ]
  },
  {
   "cell_type": "code",
   "execution_count": 12,
   "metadata": {
    "id": "bSOwm28P4yva"
   },
   "outputs": [],
   "source": [
    "model = KerasClassifier(build_fn=vanilla_RNN, epochs = 5, batch_size = 100) #batch_size=100------> par epoch e koto gulo data show korbo"
   ]
  },
  {
   "cell_type": "code",
   "execution_count": 13,
   "metadata": {
    "colab": {
     "base_uri": "https://localhost:8080/"
    },
    "id": "ZLK05CyS4yvc",
    "outputId": "73371ba4-bf50-4d54-cbc1-c7555d040e82"
   },
   "outputs": [
    {
     "name": "stdout",
     "output_type": "stream",
     "text": [
      "Epoch 1/5\n",
      "WARNING:tensorflow:Model was constructed with shape (None, 49, 1) for input KerasTensor(type_spec=TensorSpec(shape=(None, 49, 1), dtype=tf.float32, name='simple_rnn_input'), name='simple_rnn_input', description=\"created by layer 'simple_rnn_input'\"), but it was called on an input with incompatible shape (None, 2376, 1).\n",
      "WARNING:tensorflow:Model was constructed with shape (None, 49, 1) for input KerasTensor(type_spec=TensorSpec(shape=(None, 49, 1), dtype=tf.float32, name='simple_rnn_input'), name='simple_rnn_input', description=\"created by layer 'simple_rnn_input'\"), but it was called on an input with incompatible shape (None, 2376, 1).\n",
      "90/90 [==============================] - 55s 566ms/step - loss: 3.8079 - accuracy: 0.0274\n",
      "Epoch 2/5\n",
      "90/90 [==============================] - 50s 557ms/step - loss: 3.7102 - accuracy: 0.0524\n",
      "Epoch 3/5\n",
      "90/90 [==============================] - 50s 561ms/step - loss: 3.4826 - accuracy: 0.2656\n",
      "Epoch 4/5\n",
      "90/90 [==============================] - 51s 562ms/step - loss: 3.2592 - accuracy: 0.3517\n",
      "Epoch 5/5\n",
      "90/90 [==============================] - 50s 560ms/step - loss: 2.9916 - accuracy: 0.3517\n"
     ]
    },
    {
     "data": {
      "text/plain": [
       "<tensorflow.python.keras.callbacks.History at 0x246ee712a48>"
      ]
     },
     "execution_count": 13,
     "metadata": {},
     "output_type": "execute_result"
    }
   ],
   "source": [
    "model.fit(xtrain,ytrain)"
   ]
  },
  {
   "cell_type": "code",
   "execution_count": 14,
   "metadata": {
    "colab": {
     "base_uri": "https://localhost:8080/"
    },
    "id": "TSu188ab4yvd",
    "outputId": "91595ce3-7061-4b14-8b41-b6cd9ea3e067"
   },
   "outputs": [
    {
     "name": "stdout",
     "output_type": "stream",
     "text": [
      "WARNING:tensorflow:Model was constructed with shape (None, 49, 1) for input KerasTensor(type_spec=TensorSpec(shape=(None, 49, 1), dtype=tf.float32, name='simple_rnn_input'), name='simple_rnn_input', description=\"created by layer 'simple_rnn_input'\"), but it was called on an input with incompatible shape (None, 1032, 1).\n"
     ]
    }
   ],
   "source": [
    "ypred=model.predict(xtest)\n",
    "ytest_=np.argmax(ytest,axis=1)"
   ]
  },
  {
   "cell_type": "code",
   "execution_count": 15,
   "metadata": {
    "colab": {
     "base_uri": "https://localhost:8080/"
    },
    "id": "bnPNIO8-4yve",
    "outputId": "1ae81cb0-d877-4a08-deb8-ef94151983c4"
   },
   "outputs": [
    {
     "name": "stdout",
     "output_type": "stream",
     "text": [
      "0.3619768477292965\n"
     ]
    }
   ],
   "source": [
    "print(accuracy_score(ypred,ytest_))"
   ]
  },
  {
   "cell_type": "markdown",
   "metadata": {
    "id": "kSMdNzGA4yve"
   },
   "source": [
    "# LSTM"
   ]
  },
  {
   "cell_type": "code",
   "execution_count": 16,
   "metadata": {
    "id": "PZDOkRpM4yve"
   },
   "outputs": [],
   "source": [
    "from tensorflow.keras.layers import LSTM"
   ]
  },
  {
   "cell_type": "code",
   "execution_count": 17,
   "metadata": {
    "id": "IXdS6aZW4yvf"
   },
   "outputs": [],
   "source": [
    "def LSTM_RNN():\n",
    "    model=Sequential()\n",
    "    model.add(LSTM(50, input_shape=(49,1),return_sequences=False))\n",
    "    model.add(Dense(46))\n",
    "    model.add(Activation('softmax'))\n",
    "    \n",
    "    adam_optimizer=optimizers.Adam(learning_rate=0.0001)\n",
    "    model.compile(loss='categorical_crossentropy',optimizer = adam_optimizer, metrics=['accuracy'])\n",
    "    \n",
    "    return model"
   ]
  },
  {
   "cell_type": "code",
   "execution_count": 18,
   "metadata": {
    "id": "-U3zL_YVdVvA"
   },
   "outputs": [],
   "source": [
    "model = KerasClassifier(build_fn=LSTM_RNN, epochs = 5, batch_size = 100) #batch_size=100------> par epoch e koto gulo data show korbo"
   ]
  },
  {
   "cell_type": "code",
   "execution_count": 19,
   "metadata": {
    "colab": {
     "base_uri": "https://localhost:8080/"
    },
    "id": "ARTP1l0E4yvf",
    "outputId": "0200aa67-1438-4cd6-a5a1-6a6e033ac4d5"
   },
   "outputs": [
    {
     "name": "stdout",
     "output_type": "stream",
     "text": [
      "Epoch 1/5\n",
      "WARNING:tensorflow:Model was constructed with shape (None, 49, 1) for input KerasTensor(type_spec=TensorSpec(shape=(None, 49, 1), dtype=tf.float32, name='lstm_input'), name='lstm_input', description=\"created by layer 'lstm_input'\"), but it was called on an input with incompatible shape (None, 2376, 1).\n",
      "WARNING:tensorflow:Model was constructed with shape (None, 49, 1) for input KerasTensor(type_spec=TensorSpec(shape=(None, 49, 1), dtype=tf.float32, name='lstm_input'), name='lstm_input', description=\"created by layer 'lstm_input'\"), but it was called on an input with incompatible shape (None, 2376, 1).\n",
      "90/90 [==============================] - 374s 4s/step - loss: 3.7866 - accuracy: 0.3475\n",
      "Epoch 2/5\n",
      "90/90 [==============================] - 373s 4s/step - loss: 2.6878 - accuracy: 0.3517\n",
      "Epoch 3/5\n",
      "90/90 [==============================] - 374s 4s/step - loss: 2.4637 - accuracy: 0.3517\n",
      "Epoch 4/5\n",
      "90/90 [==============================] - 372s 4s/step - loss: 2.4345 - accuracy: 0.3517\n",
      "Epoch 5/5\n",
      "90/90 [==============================] - 373s 4s/step - loss: 2.4214 - accuracy: 0.3517\n"
     ]
    },
    {
     "data": {
      "text/plain": [
       "<tensorflow.python.keras.callbacks.History at 0x246822ae888>"
      ]
     },
     "execution_count": 19,
     "metadata": {},
     "output_type": "execute_result"
    }
   ],
   "source": [
    "model.fit(xtrain,ytrain)"
   ]
  },
  {
   "cell_type": "code",
   "execution_count": 20,
   "metadata": {
    "id": "5C7jXBeK4yvg"
   },
   "outputs": [
    {
     "name": "stdout",
     "output_type": "stream",
     "text": [
      "WARNING:tensorflow:Model was constructed with shape (None, 49, 1) for input KerasTensor(type_spec=TensorSpec(shape=(None, 49, 1), dtype=tf.float32, name='lstm_input'), name='lstm_input', description=\"created by layer 'lstm_input'\"), but it was called on an input with incompatible shape (None, 1032, 1).\n"
     ]
    }
   ],
   "source": [
    "ypred = model.predict(xtest)\n",
    "ytest_= np.argmax(ytest, axis=1)"
   ]
  },
  {
   "cell_type": "code",
   "execution_count": 21,
   "metadata": {
    "colab": {
     "base_uri": "https://localhost:8080/"
    },
    "id": "a9_tWvre4yvh",
    "outputId": "6b24e76f-57f7-477c-c01b-be4197a0e9dc"
   },
   "outputs": [
    {
     "name": "stdout",
     "output_type": "stream",
     "text": [
      "Accuracy:  0.3619768477292965\n"
     ]
    }
   ],
   "source": [
    "print(\"Accuracy: \", accuracy_score(ypred, ytest_))"
   ]
  },
  {
   "cell_type": "markdown",
   "metadata": {
    "id": "6kXlbxw54yvh"
   },
   "source": [
    "# Advance_LSTM_RNN"
   ]
  },
  {
   "cell_type": "code",
   "execution_count": 22,
   "metadata": {
    "id": "IlvOGDKY4yvi"
   },
   "outputs": [],
   "source": [
    "def Advance_LSTM_RNN():\n",
    "    model = Sequential()\n",
    "    model.add(LSTM(50, input_shape = (49, 1), return_sequences = True))\n",
    "    model.add(LSTM(50, return_sequences = False))\n",
    "    model.add(Dense(46))\n",
    "    model.add(Activation('softmax'))\n",
    "    \n",
    "    adam_optimizer = optimizers.Adam(learning_rate=0.001)\n",
    "    model.compile(loss = \"categorical_crossentropy\", optimizer = adam_optimizer, metrics=['accuracy'])\n",
    "    \n",
    "    return model"
   ]
  },
  {
   "cell_type": "code",
   "execution_count": 23,
   "metadata": {
    "id": "dTuyCVqH4yvi"
   },
   "outputs": [],
   "source": [
    "model = KerasClassifier(build_fn=Advance_LSTM_RNN, epochs = 3, batch_size = 100)"
   ]
  },
  {
   "cell_type": "code",
   "execution_count": null,
   "metadata": {
    "colab": {
     "background_save": true,
     "base_uri": "https://localhost:8080/"
    },
    "id": "5QwWSQvk4yvi",
    "outputId": "f884979d-f426-45d5-a114-f804865566bf"
   },
   "outputs": [
    {
     "name": "stdout",
     "output_type": "stream",
     "text": [
      "Epoch 1/5\n",
      "WARNING:tensorflow:Model was constructed with shape (None, 49, 1) for input KerasTensor(type_spec=TensorSpec(shape=(None, 49, 1), dtype=tf.float32, name='lstm_1_input'), name='lstm_1_input', description=\"created by layer 'lstm_1_input'\"), but it was called on an input with incompatible shape (None, 2376, 1).\n",
      "WARNING:tensorflow:Model was constructed with shape (None, 49, 1) for input KerasTensor(type_spec=TensorSpec(shape=(None, 49, 1), dtype=tf.float32, name='lstm_1_input'), name='lstm_1_input', description=\"created by layer 'lstm_1_input'\"), but it was called on an input with incompatible shape (None, 2376, 1).\n",
      "90/90 [==============================] - 2215s 25s/step - loss: 2.7066 - accuracy: 0.3479\n",
      "Epoch 2/5\n",
      "90/90 [==============================] - 2238s 25s/step - loss: 2.4117 - accuracy: 0.3517\n",
      "Epoch 3/5\n",
      "90/90 [==============================] - 2222s 25s/step - loss: 2.4071 - accuracy: 0.3517\n",
      "Epoch 4/5\n",
      " 6/90 [=>............................] - ETA: 34:24 - loss: 2.5137 - accuracy: 0.3400"
     ]
    }
   ],
   "source": [
    "model.fit(xtrain, ytrain)"
   ]
  },
  {
   "cell_type": "code",
   "execution_count": null,
   "metadata": {
    "id": "A64uCktB4yvk"
   },
   "outputs": [],
   "source": [
    "y_pred = model.predict(xtest)\n",
    "ytest_ = np.argmax(ytest, axis=1)"
   ]
  },
  {
   "cell_type": "code",
   "execution_count": null,
   "metadata": {
    "colab": {
     "base_uri": "https://localhost:8080/"
    },
    "id": "fX_KjKfr4yvk",
    "outputId": "e5d04905-567c-49a6-feb2-7f010bbc8d1d"
   },
   "outputs": [],
   "source": [
    "print(\"Accuracy: \", accuracy_score(y_pred, ytest_))"
   ]
  },
  {
   "cell_type": "code",
   "execution_count": null,
   "metadata": {
    "id": "oGB32AbA4yvl"
   },
   "outputs": [],
   "source": []
  }
 ],
 "metadata": {
  "colab": {
   "name": "RNN.ipynb",
   "provenance": []
  },
  "kernelspec": {
   "display_name": "Python 3",
   "language": "python",
   "name": "python3"
  },
  "language_info": {
   "codemirror_mode": {
    "name": "ipython",
    "version": 3
   },
   "file_extension": ".py",
   "mimetype": "text/x-python",
   "name": "python",
   "nbconvert_exporter": "python",
   "pygments_lexer": "ipython3",
   "version": "3.7.6"
  }
 },
 "nbformat": 4,
 "nbformat_minor": 1
}
